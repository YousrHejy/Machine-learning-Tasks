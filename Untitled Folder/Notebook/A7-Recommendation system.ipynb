{
 "cells": [
  {
   "cell_type": "markdown",
   "id": "5e02bf07",
   "metadata": {},
   "source": [
    "# Cairo University Faculty of Engineering\n",
    "## Machine Learning\n",
    "### Assignment 7\n",
    "#### Name: Yousr Ashraf Hejy"
   ]
  },
  {
   "cell_type": "markdown",
   "id": "8f1be56e",
   "metadata": {},
   "source": [
    "## Imports"
   ]
  },
  {
   "cell_type": "code",
   "execution_count": 150,
   "id": "6e696c1f",
   "metadata": {},
   "outputs": [],
   "source": [
    "import pandas as pd\n",
    "import numpy as np\n",
    "from sklearn.metrics.pairwise import cosine_similarity"
   ]
  },
  {
   "cell_type": "markdown",
   "id": "05477a5f",
   "metadata": {},
   "source": [
    "## ---------------------------------------------------- Functions -------------------------------------------------------"
   ]
  },
  {
   "cell_type": "markdown",
   "id": "b316398c",
   "metadata": {},
   "source": [
    "#### Take rating and movie data frames to return the combined dataset according to the shape required in the task (movie ratings for the first 200 users only)"
   ]
  },
  {
   "cell_type": "code",
   "execution_count": 151,
   "id": "40f530bf",
   "metadata": {},
   "outputs": [],
   "source": [
    "def prepare_data(df1, df2, rows_num, drop_cols):\n",
    "    # Hands on the first 200 users\n",
    "    userID = list(range(1, rows_num + 1))\n",
    "    # Filter the rating df according to the first 200 users\n",
    "    df1_sample = df1[df1['userId'].isin(userID)]\n",
    "    # Employ the first 200 films within your analysis\n",
    "    df2_sample = df2[ :rows_num]\n",
    "    # Merge the movies dataframe with the filtered ratings to create movie ratings for the first 200 users\n",
    "    df_combined = pd.merge(df1_sample, df2_sample, on='movieId')\n",
    "    # dropping the unnesessary columns\n",
    "    df_combined = df_combined.drop(drop_cols, axis=1)\n",
    "    return df_combined"
   ]
  },
  {
   "cell_type": "markdown",
   "id": "4640af70",
   "metadata": {},
   "source": [
    "#### Takes the combined data frame as input to create the pivot table"
   ]
  },
  {
   "cell_type": "code",
   "execution_count": 152,
   "id": "ffe8682d",
   "metadata": {},
   "outputs": [],
   "source": [
    "def cf_table(df, index_val, column_val, values_vals):\n",
    "    # Create a pivot table from the new dataframe, with user IDs as rows and movie IDs as columns, and the movie ratings as values\n",
    "    pivot_table = pd.pivot_table(data=df, index= index_val ,columns= column_val, values=values_vals)\n",
    "    # handle the missing values with filling with 0\n",
    "    # we could also fill with the mean value in that case\n",
    "    pivot_table = pivot_table.fillna(0)\n",
    "    return pivot_table"
   ]
  },
  {
   "cell_type": "markdown",
   "id": "4e4bd07d",
   "metadata": {},
   "source": [
    "#### Takes the pivot table and return the similarity scores data frame between movies"
   ]
  },
  {
   "cell_type": "code",
   "execution_count": 153,
   "id": "ef453603",
   "metadata": {},
   "outputs": [],
   "source": [
    "def similarity_matrix(pivot_table):\n",
    "    # Calculate Cousine similarity matrix\n",
    "    similarity_matrix = cosine_similarity(pt)\n",
    "    # Create a similarity movie score dataframe\n",
    "    similarity_matrix_df = pd.DataFrame(similarity_matrix, columns=pivot_table.index, index=pivot_table.index)\n",
    "    return similarity_matrix_df\n",
    "\n"
   ]
  },
  {
   "cell_type": "markdown",
   "id": "b86ef2ad",
   "metadata": {},
   "source": [
    "### Item-based CF System\n",
    "#### Takes the movie name and no. of recommendation desired to get the recommended movies based on similarity to the choosen movie"
   ]
  },
  {
   "cell_type": "code",
   "execution_count": 154,
   "id": "4a8a8d7a",
   "metadata": {},
   "outputs": [],
   "source": [
    "def recommender_system_item(movie_name, num_of_recommendation, similarity_matrix_df):\n",
    "    # find the similar scores of movies to the choosen movie then choose the highest first 10 closest\n",
    "    similar_movies = similarity_matrix_df[movie_name].sort_values(ascending=False)[1 : num_of_recommendation+1]\n",
    "    similar_movies = pd.DataFrame(similar_movies)\n",
    "    print(f\"The similar movie for {movie_name}:\" )\n",
    "    # print the names of this movies\n",
    "    for i in similar_movies.index:\n",
    "        print(i)\n",
    "    return similar_movies"
   ]
  },
  {
   "cell_type": "markdown",
   "id": "2841e87f",
   "metadata": {},
   "source": [
    "### User-based CF System\n",
    "#### Takes the userID and no. of recommendation desired to get the movie recommendations"
   ]
  },
  {
   "cell_type": "code",
   "execution_count": 155,
   "id": "7ed7332c",
   "metadata": {},
   "outputs": [],
   "source": [
    "def recommender_system_user(userID, number_of_recommendation, movies_users_rating, number_of_similar_users = 6):\n",
    "    counter_of_recommendations = 0\n",
    "    # save the ids of similar users to our user\n",
    "    indices = data_matrix_user.loc[userID].nlargest(number_of_similar_users).index\n",
    "    \n",
    "    print(f\"The recommended movies for to userID of {userID}:\")\n",
    "    # loop on similar users and print the name of corresponding movies\n",
    "    for idx, num in enumerate(indices):\n",
    "        # save all the movies that each user watched with high ratings\n",
    "        user_movies_high_rating = movies_users_rating.loc[indices[idx]].nlargest(number_of_recommendation).index\n",
    "        # loop over those movies to check if our user have watched it or not\n",
    "        # if he haven't watched the movie -> recommend it to the user\n",
    "        for idx, num in enumerate(user_movies_high_rating):\n",
    "            # check if the user have watched it or not by checking if he rated or not\n",
    "            if (movies_users_rating[user_movies_high_rating[idx]].loc[userID] == 0) & (counter_of_recommendations < number_of_recommendation):\n",
    "                # if no rating exsists -> print it\n",
    "                print(user_movies_high_rating[idx])\n",
    "                counter_of_recommendations += 1"
   ]
  },
  {
   "cell_type": "markdown",
   "id": "496faf21",
   "metadata": {},
   "source": [
    "## ---------------------------------------------------- Steps -------------------------------------------------------"
   ]
  },
  {
   "cell_type": "markdown",
   "id": "7f39018b",
   "metadata": {},
   "source": [
    "## Load the data"
   ]
  },
  {
   "cell_type": "code",
   "execution_count": 156,
   "id": "92497a74",
   "metadata": {},
   "outputs": [
    {
     "data": {
      "text/html": [
       "<div>\n",
       "<style scoped>\n",
       "    .dataframe tbody tr th:only-of-type {\n",
       "        vertical-align: middle;\n",
       "    }\n",
       "\n",
       "    .dataframe tbody tr th {\n",
       "        vertical-align: top;\n",
       "    }\n",
       "\n",
       "    .dataframe thead th {\n",
       "        text-align: right;\n",
       "    }\n",
       "</style>\n",
       "<table border=\"1\" class=\"dataframe\">\n",
       "  <thead>\n",
       "    <tr style=\"text-align: right;\">\n",
       "      <th></th>\n",
       "      <th>movieId</th>\n",
       "      <th>title</th>\n",
       "      <th>genres</th>\n",
       "    </tr>\n",
       "  </thead>\n",
       "  <tbody>\n",
       "    <tr>\n",
       "      <th>0</th>\n",
       "      <td>1</td>\n",
       "      <td>Toy Story (1995)</td>\n",
       "      <td>Adventure|Animation|Children|Comedy|Fantasy</td>\n",
       "    </tr>\n",
       "    <tr>\n",
       "      <th>1</th>\n",
       "      <td>2</td>\n",
       "      <td>Jumanji (1995)</td>\n",
       "      <td>Adventure|Children|Fantasy</td>\n",
       "    </tr>\n",
       "    <tr>\n",
       "      <th>2</th>\n",
       "      <td>3</td>\n",
       "      <td>Grumpier Old Men (1995)</td>\n",
       "      <td>Comedy|Romance</td>\n",
       "    </tr>\n",
       "    <tr>\n",
       "      <th>3</th>\n",
       "      <td>4</td>\n",
       "      <td>Waiting to Exhale (1995)</td>\n",
       "      <td>Comedy|Drama|Romance</td>\n",
       "    </tr>\n",
       "    <tr>\n",
       "      <th>4</th>\n",
       "      <td>5</td>\n",
       "      <td>Father of the Bride Part II (1995)</td>\n",
       "      <td>Comedy</td>\n",
       "    </tr>\n",
       "  </tbody>\n",
       "</table>\n",
       "</div>"
      ],
      "text/plain": [
       "   movieId                               title  \\\n",
       "0        1                    Toy Story (1995)   \n",
       "1        2                      Jumanji (1995)   \n",
       "2        3             Grumpier Old Men (1995)   \n",
       "3        4            Waiting to Exhale (1995)   \n",
       "4        5  Father of the Bride Part II (1995)   \n",
       "\n",
       "                                        genres  \n",
       "0  Adventure|Animation|Children|Comedy|Fantasy  \n",
       "1                   Adventure|Children|Fantasy  \n",
       "2                               Comedy|Romance  \n",
       "3                         Comedy|Drama|Romance  \n",
       "4                                       Comedy  "
      ]
     },
     "execution_count": 156,
     "metadata": {},
     "output_type": "execute_result"
    }
   ],
   "source": [
    "mdf = pd.read_csv(\"C:/Users/Lenovo/Documents/GitHub/Machine-learning-Tasks/Untitled Folder/ContentBasedRecommenderSystem/movies.csv\")\n",
    "rdf = pd.read_csv(\"C:/Users/Lenovo/Documents/GitHub/Machine-learning-Tasks/Untitled Folder/ContentBasedRecommenderSystem/ratings.csv\")\n",
    "\n",
    "mdf.head()"
   ]
  },
  {
   "cell_type": "code",
   "execution_count": 157,
   "id": "e8a3d84f",
   "metadata": {},
   "outputs": [
    {
     "data": {
      "text/html": [
       "<div>\n",
       "<style scoped>\n",
       "    .dataframe tbody tr th:only-of-type {\n",
       "        vertical-align: middle;\n",
       "    }\n",
       "\n",
       "    .dataframe tbody tr th {\n",
       "        vertical-align: top;\n",
       "    }\n",
       "\n",
       "    .dataframe thead th {\n",
       "        text-align: right;\n",
       "    }\n",
       "</style>\n",
       "<table border=\"1\" class=\"dataframe\">\n",
       "  <thead>\n",
       "    <tr style=\"text-align: right;\">\n",
       "      <th></th>\n",
       "      <th>userId</th>\n",
       "      <th>movieId</th>\n",
       "      <th>rating</th>\n",
       "      <th>timestamp</th>\n",
       "    </tr>\n",
       "  </thead>\n",
       "  <tbody>\n",
       "    <tr>\n",
       "      <th>0</th>\n",
       "      <td>1</td>\n",
       "      <td>1</td>\n",
       "      <td>4.0</td>\n",
       "      <td>964982703</td>\n",
       "    </tr>\n",
       "    <tr>\n",
       "      <th>1</th>\n",
       "      <td>1</td>\n",
       "      <td>3</td>\n",
       "      <td>4.0</td>\n",
       "      <td>964981247</td>\n",
       "    </tr>\n",
       "    <tr>\n",
       "      <th>2</th>\n",
       "      <td>1</td>\n",
       "      <td>6</td>\n",
       "      <td>4.0</td>\n",
       "      <td>964982224</td>\n",
       "    </tr>\n",
       "    <tr>\n",
       "      <th>3</th>\n",
       "      <td>1</td>\n",
       "      <td>47</td>\n",
       "      <td>5.0</td>\n",
       "      <td>964983815</td>\n",
       "    </tr>\n",
       "    <tr>\n",
       "      <th>4</th>\n",
       "      <td>1</td>\n",
       "      <td>50</td>\n",
       "      <td>5.0</td>\n",
       "      <td>964982931</td>\n",
       "    </tr>\n",
       "  </tbody>\n",
       "</table>\n",
       "</div>"
      ],
      "text/plain": [
       "   userId  movieId  rating  timestamp\n",
       "0       1        1     4.0  964982703\n",
       "1       1        3     4.0  964981247\n",
       "2       1        6     4.0  964982224\n",
       "3       1       47     5.0  964983815\n",
       "4       1       50     5.0  964982931"
      ]
     },
     "execution_count": 157,
     "metadata": {},
     "output_type": "execute_result"
    }
   ],
   "source": [
    "rdf.head()"
   ]
  },
  {
   "cell_type": "code",
   "execution_count": 158,
   "id": "c099518c",
   "metadata": {},
   "outputs": [
    {
     "data": {
      "text/plain": [
       "(200, 3)"
      ]
     },
     "execution_count": 158,
     "metadata": {},
     "output_type": "execute_result"
    }
   ],
   "source": [
    "movies_200.shape"
   ]
  },
  {
   "cell_type": "markdown",
   "id": "a79ea559",
   "metadata": {},
   "source": [
    "## Create the similarity matrix and recommendation system"
   ]
  },
  {
   "cell_type": "code",
   "execution_count": 159,
   "id": "199ffddf",
   "metadata": {},
   "outputs": [
    {
     "data": {
      "text/html": [
       "<div>\n",
       "<style scoped>\n",
       "    .dataframe tbody tr th:only-of-type {\n",
       "        vertical-align: middle;\n",
       "    }\n",
       "\n",
       "    .dataframe tbody tr th {\n",
       "        vertical-align: top;\n",
       "    }\n",
       "\n",
       "    .dataframe thead th {\n",
       "        text-align: right;\n",
       "    }\n",
       "</style>\n",
       "<table border=\"1\" class=\"dataframe\">\n",
       "  <thead>\n",
       "    <tr style=\"text-align: right;\">\n",
       "      <th></th>\n",
       "      <th>userId</th>\n",
       "      <th>movieId</th>\n",
       "      <th>rating</th>\n",
       "      <th>title</th>\n",
       "    </tr>\n",
       "  </thead>\n",
       "  <tbody>\n",
       "    <tr>\n",
       "      <th>0</th>\n",
       "      <td>1</td>\n",
       "      <td>1</td>\n",
       "      <td>4.0</td>\n",
       "      <td>Toy Story (1995)</td>\n",
       "    </tr>\n",
       "    <tr>\n",
       "      <th>1</th>\n",
       "      <td>5</td>\n",
       "      <td>1</td>\n",
       "      <td>4.0</td>\n",
       "      <td>Toy Story (1995)</td>\n",
       "    </tr>\n",
       "  </tbody>\n",
       "</table>\n",
       "</div>"
      ],
      "text/plain": [
       "   userId  movieId  rating             title\n",
       "0       1        1     4.0  Toy Story (1995)\n",
       "1       5        1     4.0  Toy Story (1995)"
      ]
     },
     "execution_count": 159,
     "metadata": {},
     "output_type": "execute_result"
    }
   ],
   "source": [
    "df_combined = prepare_data(rdf, mdf, 200, ['timestamp', 'genres'])\n",
    "df_combined.head(2)"
   ]
  },
  {
   "cell_type": "code",
   "execution_count": 160,
   "id": "4c312a45",
   "metadata": {},
   "outputs": [
    {
     "name": "stdout",
     "output_type": "stream",
     "text": [
      "(176, 180)\n"
     ]
    },
    {
     "data": {
      "text/html": [
       "<div>\n",
       "<style scoped>\n",
       "    .dataframe tbody tr th:only-of-type {\n",
       "        vertical-align: middle;\n",
       "    }\n",
       "\n",
       "    .dataframe tbody tr th {\n",
       "        vertical-align: top;\n",
       "    }\n",
       "\n",
       "    .dataframe thead th {\n",
       "        text-align: right;\n",
       "    }\n",
       "</style>\n",
       "<table border=\"1\" class=\"dataframe\">\n",
       "  <thead>\n",
       "    <tr style=\"text-align: right;\">\n",
       "      <th>userId</th>\n",
       "      <th>1</th>\n",
       "      <th>3</th>\n",
       "      <th>4</th>\n",
       "      <th>5</th>\n",
       "      <th>6</th>\n",
       "      <th>7</th>\n",
       "      <th>8</th>\n",
       "      <th>9</th>\n",
       "      <th>11</th>\n",
       "      <th>12</th>\n",
       "      <th>...</th>\n",
       "      <th>191</th>\n",
       "      <th>192</th>\n",
       "      <th>193</th>\n",
       "      <th>194</th>\n",
       "      <th>195</th>\n",
       "      <th>196</th>\n",
       "      <th>197</th>\n",
       "      <th>198</th>\n",
       "      <th>199</th>\n",
       "      <th>200</th>\n",
       "    </tr>\n",
       "    <tr>\n",
       "      <th>title</th>\n",
       "      <th></th>\n",
       "      <th></th>\n",
       "      <th></th>\n",
       "      <th></th>\n",
       "      <th></th>\n",
       "      <th></th>\n",
       "      <th></th>\n",
       "      <th></th>\n",
       "      <th></th>\n",
       "      <th></th>\n",
       "      <th></th>\n",
       "      <th></th>\n",
       "      <th></th>\n",
       "      <th></th>\n",
       "      <th></th>\n",
       "      <th></th>\n",
       "      <th></th>\n",
       "      <th></th>\n",
       "      <th></th>\n",
       "      <th></th>\n",
       "      <th></th>\n",
       "    </tr>\n",
       "  </thead>\n",
       "  <tbody>\n",
       "    <tr>\n",
       "      <th>Ace Ventura: When Nature Calls (1995)</th>\n",
       "      <td>0.0</td>\n",
       "      <td>0.0</td>\n",
       "      <td>0.0</td>\n",
       "      <td>0.0</td>\n",
       "      <td>2.0</td>\n",
       "      <td>0.0</td>\n",
       "      <td>0.0</td>\n",
       "      <td>0.0</td>\n",
       "      <td>0.0</td>\n",
       "      <td>0.0</td>\n",
       "      <td>...</td>\n",
       "      <td>0.0</td>\n",
       "      <td>0.0</td>\n",
       "      <td>0.0</td>\n",
       "      <td>0.0</td>\n",
       "      <td>0.0</td>\n",
       "      <td>0.0</td>\n",
       "      <td>0.0</td>\n",
       "      <td>0.0</td>\n",
       "      <td>0.0</td>\n",
       "      <td>3.5</td>\n",
       "    </tr>\n",
       "    <tr>\n",
       "      <th>Amazing Panda Adventure, The (1995)</th>\n",
       "      <td>0.0</td>\n",
       "      <td>0.0</td>\n",
       "      <td>0.0</td>\n",
       "      <td>0.0</td>\n",
       "      <td>4.0</td>\n",
       "      <td>0.0</td>\n",
       "      <td>0.0</td>\n",
       "      <td>0.0</td>\n",
       "      <td>0.0</td>\n",
       "      <td>0.0</td>\n",
       "      <td>...</td>\n",
       "      <td>0.0</td>\n",
       "      <td>0.0</td>\n",
       "      <td>0.0</td>\n",
       "      <td>0.0</td>\n",
       "      <td>0.0</td>\n",
       "      <td>0.0</td>\n",
       "      <td>0.0</td>\n",
       "      <td>0.0</td>\n",
       "      <td>0.0</td>\n",
       "      <td>0.0</td>\n",
       "    </tr>\n",
       "  </tbody>\n",
       "</table>\n",
       "<p>2 rows × 180 columns</p>\n",
       "</div>"
      ],
      "text/plain": [
       "userId                                 1    3    4    5    6    7    8    9    \\\n",
       "title                                                                           \n",
       "Ace Ventura: When Nature Calls (1995)  0.0  0.0  0.0  0.0  2.0  0.0  0.0  0.0   \n",
       "Amazing Panda Adventure, The (1995)    0.0  0.0  0.0  0.0  4.0  0.0  0.0  0.0   \n",
       "\n",
       "userId                                 11   12   ...  191  192  193  194  195  \\\n",
       "title                                            ...                            \n",
       "Ace Ventura: When Nature Calls (1995)  0.0  0.0  ...  0.0  0.0  0.0  0.0  0.0   \n",
       "Amazing Panda Adventure, The (1995)    0.0  0.0  ...  0.0  0.0  0.0  0.0  0.0   \n",
       "\n",
       "userId                                 196  197  198  199  200  \n",
       "title                                                           \n",
       "Ace Ventura: When Nature Calls (1995)  0.0  0.0  0.0  0.0  3.5  \n",
       "Amazing Panda Adventure, The (1995)    0.0  0.0  0.0  0.0  0.0  \n",
       "\n",
       "[2 rows x 180 columns]"
      ]
     },
     "execution_count": 160,
     "metadata": {},
     "output_type": "execute_result"
    }
   ],
   "source": [
    "pivot_table = cf_table(df_combined, 'title', 'userId', 'rating')\n",
    "print(pivot_table.shape)\n",
    "pivot_table.head(2)"
   ]
  },
  {
   "cell_type": "code",
   "execution_count": 161,
   "id": "430d1297",
   "metadata": {},
   "outputs": [
    {
     "data": {
      "text/html": [
       "<div>\n",
       "<style scoped>\n",
       "    .dataframe tbody tr th:only-of-type {\n",
       "        vertical-align: middle;\n",
       "    }\n",
       "\n",
       "    .dataframe tbody tr th {\n",
       "        vertical-align: top;\n",
       "    }\n",
       "\n",
       "    .dataframe thead th {\n",
       "        text-align: right;\n",
       "    }\n",
       "</style>\n",
       "<table border=\"1\" class=\"dataframe\">\n",
       "  <thead>\n",
       "    <tr style=\"text-align: right;\">\n",
       "      <th>title</th>\n",
       "      <th>Ace Ventura: When Nature Calls (1995)</th>\n",
       "      <th>Amazing Panda Adventure, The (1995)</th>\n",
       "      <th>American President, The (1995)</th>\n",
       "      <th>Angels and Insects (1995)</th>\n",
       "      <th>Anne Frank Remembered (1995)</th>\n",
       "      <th>Antonia's Line (Antonia) (1995)</th>\n",
       "      <th>Apollo 13 (1995)</th>\n",
       "      <th>Assassins (1995)</th>\n",
       "      <th>Awfully Big Adventure, An (1995)</th>\n",
       "      <th>Babe (1995)</th>\n",
       "      <th>...</th>\n",
       "      <th>Unstrung Heroes (1995)</th>\n",
       "      <th>Up Close and Personal (1996)</th>\n",
       "      <th>Usual Suspects, The (1995)</th>\n",
       "      <th>Vampire in Brooklyn (1995)</th>\n",
       "      <th>Waiting to Exhale (1995)</th>\n",
       "      <th>Walk in the Clouds, A (1995)</th>\n",
       "      <th>Waterworld (1995)</th>\n",
       "      <th>White Man's Burden (1995)</th>\n",
       "      <th>White Squall (1996)</th>\n",
       "      <th>Wild Bill (1995)</th>\n",
       "    </tr>\n",
       "    <tr>\n",
       "      <th>title</th>\n",
       "      <th></th>\n",
       "      <th></th>\n",
       "      <th></th>\n",
       "      <th></th>\n",
       "      <th></th>\n",
       "      <th></th>\n",
       "      <th></th>\n",
       "      <th></th>\n",
       "      <th></th>\n",
       "      <th></th>\n",
       "      <th></th>\n",
       "      <th></th>\n",
       "      <th></th>\n",
       "      <th></th>\n",
       "      <th></th>\n",
       "      <th></th>\n",
       "      <th></th>\n",
       "      <th></th>\n",
       "      <th></th>\n",
       "      <th></th>\n",
       "      <th></th>\n",
       "    </tr>\n",
       "  </thead>\n",
       "  <tbody>\n",
       "    <tr>\n",
       "      <th>Ace Ventura: When Nature Calls (1995)</th>\n",
       "      <td>1.000000</td>\n",
       "      <td>0.166578</td>\n",
       "      <td>0.337001</td>\n",
       "      <td>0.0</td>\n",
       "      <td>0.0</td>\n",
       "      <td>0.080112</td>\n",
       "      <td>0.388591</td>\n",
       "      <td>0.104858</td>\n",
       "      <td>0.0</td>\n",
       "      <td>0.342358</td>\n",
       "      <td>...</td>\n",
       "      <td>0.166578</td>\n",
       "      <td>0.092468</td>\n",
       "      <td>0.305973</td>\n",
       "      <td>0.214109</td>\n",
       "      <td>0.104069</td>\n",
       "      <td>0.282678</td>\n",
       "      <td>0.392326</td>\n",
       "      <td>0.138758</td>\n",
       "      <td>0.116963</td>\n",
       "      <td>0.111007</td>\n",
       "    </tr>\n",
       "    <tr>\n",
       "      <th>Amazing Panda Adventure, The (1995)</th>\n",
       "      <td>0.166578</td>\n",
       "      <td>1.000000</td>\n",
       "      <td>0.235012</td>\n",
       "      <td>0.0</td>\n",
       "      <td>0.0</td>\n",
       "      <td>0.297044</td>\n",
       "      <td>0.232556</td>\n",
       "      <td>0.155520</td>\n",
       "      <td>0.0</td>\n",
       "      <td>0.298277</td>\n",
       "      <td>...</td>\n",
       "      <td>0.705882</td>\n",
       "      <td>0.243809</td>\n",
       "      <td>0.063435</td>\n",
       "      <td>0.423405</td>\n",
       "      <td>0.342997</td>\n",
       "      <td>0.271031</td>\n",
       "      <td>0.281099</td>\n",
       "      <td>0.685994</td>\n",
       "      <td>0.513994</td>\n",
       "      <td>0.857493</td>\n",
       "    </tr>\n",
       "  </tbody>\n",
       "</table>\n",
       "<p>2 rows × 176 columns</p>\n",
       "</div>"
      ],
      "text/plain": [
       "title                                  Ace Ventura: When Nature Calls (1995)  \\\n",
       "title                                                                          \n",
       "Ace Ventura: When Nature Calls (1995)                               1.000000   \n",
       "Amazing Panda Adventure, The (1995)                                 0.166578   \n",
       "\n",
       "title                                  Amazing Panda Adventure, The (1995)  \\\n",
       "title                                                                        \n",
       "Ace Ventura: When Nature Calls (1995)                             0.166578   \n",
       "Amazing Panda Adventure, The (1995)                               1.000000   \n",
       "\n",
       "title                                  American President, The (1995)  \\\n",
       "title                                                                   \n",
       "Ace Ventura: When Nature Calls (1995)                        0.337001   \n",
       "Amazing Panda Adventure, The (1995)                          0.235012   \n",
       "\n",
       "title                                  Angels and Insects (1995)  \\\n",
       "title                                                              \n",
       "Ace Ventura: When Nature Calls (1995)                        0.0   \n",
       "Amazing Panda Adventure, The (1995)                          0.0   \n",
       "\n",
       "title                                  Anne Frank Remembered (1995)  \\\n",
       "title                                                                 \n",
       "Ace Ventura: When Nature Calls (1995)                           0.0   \n",
       "Amazing Panda Adventure, The (1995)                             0.0   \n",
       "\n",
       "title                                  Antonia's Line (Antonia) (1995)  \\\n",
       "title                                                                    \n",
       "Ace Ventura: When Nature Calls (1995)                         0.080112   \n",
       "Amazing Panda Adventure, The (1995)                           0.297044   \n",
       "\n",
       "title                                  Apollo 13 (1995)  Assassins (1995)  \\\n",
       "title                                                                       \n",
       "Ace Ventura: When Nature Calls (1995)          0.388591          0.104858   \n",
       "Amazing Panda Adventure, The (1995)            0.232556          0.155520   \n",
       "\n",
       "title                                  Awfully Big Adventure, An (1995)  \\\n",
       "title                                                                     \n",
       "Ace Ventura: When Nature Calls (1995)                               0.0   \n",
       "Amazing Panda Adventure, The (1995)                                 0.0   \n",
       "\n",
       "title                                  Babe (1995)  ...  \\\n",
       "title                                               ...   \n",
       "Ace Ventura: When Nature Calls (1995)     0.342358  ...   \n",
       "Amazing Panda Adventure, The (1995)       0.298277  ...   \n",
       "\n",
       "title                                  Unstrung Heroes (1995)  \\\n",
       "title                                                           \n",
       "Ace Ventura: When Nature Calls (1995)                0.166578   \n",
       "Amazing Panda Adventure, The (1995)                  0.705882   \n",
       "\n",
       "title                                  Up Close and Personal (1996)  \\\n",
       "title                                                                 \n",
       "Ace Ventura: When Nature Calls (1995)                      0.092468   \n",
       "Amazing Panda Adventure, The (1995)                        0.243809   \n",
       "\n",
       "title                                  Usual Suspects, The (1995)  \\\n",
       "title                                                               \n",
       "Ace Ventura: When Nature Calls (1995)                    0.305973   \n",
       "Amazing Panda Adventure, The (1995)                      0.063435   \n",
       "\n",
       "title                                  Vampire in Brooklyn (1995)  \\\n",
       "title                                                               \n",
       "Ace Ventura: When Nature Calls (1995)                    0.214109   \n",
       "Amazing Panda Adventure, The (1995)                      0.423405   \n",
       "\n",
       "title                                  Waiting to Exhale (1995)  \\\n",
       "title                                                             \n",
       "Ace Ventura: When Nature Calls (1995)                  0.104069   \n",
       "Amazing Panda Adventure, The (1995)                    0.342997   \n",
       "\n",
       "title                                  Walk in the Clouds, A (1995)  \\\n",
       "title                                                                 \n",
       "Ace Ventura: When Nature Calls (1995)                      0.282678   \n",
       "Amazing Panda Adventure, The (1995)                        0.271031   \n",
       "\n",
       "title                                  Waterworld (1995)  \\\n",
       "title                                                      \n",
       "Ace Ventura: When Nature Calls (1995)           0.392326   \n",
       "Amazing Panda Adventure, The (1995)             0.281099   \n",
       "\n",
       "title                                  White Man's Burden (1995)  \\\n",
       "title                                                              \n",
       "Ace Ventura: When Nature Calls (1995)                   0.138758   \n",
       "Amazing Panda Adventure, The (1995)                     0.685994   \n",
       "\n",
       "title                                  White Squall (1996)  Wild Bill (1995)  \n",
       "title                                                                         \n",
       "Ace Ventura: When Nature Calls (1995)             0.116963          0.111007  \n",
       "Amazing Panda Adventure, The (1995)               0.513994          0.857493  \n",
       "\n",
       "[2 rows x 176 columns]"
      ]
     },
     "execution_count": 161,
     "metadata": {},
     "output_type": "execute_result"
    }
   ],
   "source": [
    "similarity_bet_movies_df = similarity_matrix(pivot_table)\n",
    "similarity_bet_movies_df.head()\n",
    "similarity_bet_movies_df.head(2)"
   ]
  },
  {
   "cell_type": "markdown",
   "id": "9d686f63",
   "metadata": {},
   "source": [
    "## Find the similar Movies\n",
    "### 1. Movie ID: 1, Title “Toy Story (1995)”"
   ]
  },
  {
   "cell_type": "code",
   "execution_count": 162,
   "id": "f0576cef",
   "metadata": {},
   "outputs": [
    {
     "name": "stdout",
     "output_type": "stream",
     "text": [
      "The similar movie for Toy Story (1995):\n",
      "Braveheart (1995)\n",
      "Apollo 13 (1995)\n",
      "Usual Suspects, The (1995)\n",
      "Happy Gilmore (1996)\n",
      "Die Hard: With a Vengeance (1995)\n",
      "Seven (a.k.a. Se7en) (1995)\n",
      "Babe (1995)\n",
      "Waterworld (1995)\n",
      "Batman Forever (1995)\n",
      "Taxi Driver (1976)\n"
     ]
    }
   ],
   "source": [
    "WaitingToExhale_similar_movies = recommender_system_item(\"Toy Story (1995)\", 10, similarity_bet_movies_df)"
   ]
  },
  {
   "cell_type": "markdown",
   "id": "79399be5",
   "metadata": {},
   "source": [
    "### 2. Movie ID: 4, Title: “Waiting to Exhale (1995)”"
   ]
  },
  {
   "cell_type": "code",
   "execution_count": 163,
   "id": "f665218f",
   "metadata": {},
   "outputs": [
    {
     "name": "stdout",
     "output_type": "stream",
     "text": [
      "The similar movie for Waiting to Exhale (1995):\n",
      "Before and After (1996)\n",
      "Mighty Morphin Power Rangers: The Movie (1995)\n",
      "Three Wishes (1995)\n",
      "Georgia (1995)\n",
      "Mad Love (1995)\n",
      "Before the Rain (Pred dozhdot) (1994)\n",
      "Reckless (1995)\n",
      "Cure, The (1995)\n",
      "White Man's Burden (1995)\n",
      "Now and Then (1995)\n"
     ]
    }
   ],
   "source": [
    "WaitingToExhale_similar_movies = recommender_system_item(\"Waiting to Exhale (1995)\", 10, similarity_bet_movies_df)"
   ]
  },
  {
   "cell_type": "markdown",
   "id": "e2f28757",
   "metadata": {},
   "source": [
    "## Recommend 3 films to userID 200"
   ]
  },
  {
   "cell_type": "markdown",
   "id": "05c00109",
   "metadata": {},
   "source": [
    "#### Create a pivot table for userID recommendation System"
   ]
  },
  {
   "cell_type": "code",
   "execution_count": 164,
   "id": "bf483fc8",
   "metadata": {},
   "outputs": [],
   "source": [
    "movies_pivot_table_userID = cf_table(df_combined, 'userId', 'title', 'rating')"
   ]
  },
  {
   "cell_type": "code",
   "execution_count": 165,
   "id": "19bd3523",
   "metadata": {},
   "outputs": [
    {
     "name": "stdout",
     "output_type": "stream",
     "text": [
      "The recommended movies for to userID of 200:\n",
      "First Knight (1995)\n",
      "Usual Suspects, The (1995)\n",
      "Pocahontas (1995)\n"
     ]
    }
   ],
   "source": [
    "recommender_system_user(userID=200,number_of_recommendation=3, movies_users_rating = movies_pivot_table_userID)"
   ]
  }
 ],
 "metadata": {
  "kernelspec": {
   "display_name": "Python 3 (ipykernel)",
   "language": "python",
   "name": "python3"
  },
  "language_info": {
   "codemirror_mode": {
    "name": "ipython",
    "version": 3
   },
   "file_extension": ".py",
   "mimetype": "text/x-python",
   "name": "python",
   "nbconvert_exporter": "python",
   "pygments_lexer": "ipython3",
   "version": "3.9.13"
  }
 },
 "nbformat": 4,
 "nbformat_minor": 5
}
